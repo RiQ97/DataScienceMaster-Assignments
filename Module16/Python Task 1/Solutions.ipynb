{
 "cells": [
  {
   "cell_type": "markdown",
   "metadata": {},
   "source": [
    "Q1. Create a function which will take a list as an argument and return the product of all the numbers\n",
    "after creating a flat list.\n",
    "Use the below-given list as an argument for your function.\n",
    "list1 = [1,2,3,4, [44,55,66, True], False, (34,56,78,89,34), {1,2,3,3,2,1}, {1:34, \"key2\": [55, 67, 78, 89], 4: (45,\n",
    "22, 61, 34)}, [56, 'data science'], 'Machine Learning']\n",
    "Note: you must extract numeric keys and values of the dictionary also."
   ]
  },
  {
   "cell_type": "code",
   "execution_count": 48,
   "metadata": {},
   "outputs": [
    {
     "name": "stdout",
     "output_type": "stream",
     "text": [
      "4134711838987085478833841242112000\n"
     ]
    }
   ],
   "source": [
    "def extractor(num):\n",
    "\n",
    "    if isinstance(num, (int, float)):\n",
    "        return [num]\n",
    "    elif isinstance(num, (list, tuple, set)):\n",
    "        temp = []\n",
    "        for i in num:\n",
    "            temp.extend(extractor(i))\n",
    "        return temp\n",
    "    elif isinstance(num, dict):\n",
    "        temp = []\n",
    "        for key in num.keys():\n",
    "            temp.extend(extractor(key))\n",
    "        for value in num.values():\n",
    "            temp.extend(extractor(value))\n",
    "        return temp\n",
    "    else:\n",
    "        return []\n",
    "\n",
    "def product(num):\n",
    "    temp = [item for item in num if item not in [False, True]]\n",
    "    mult=1\n",
    "    for i in temp:\n",
    "        mult*=i\n",
    "    return mult\n",
    "\n",
    "list1 = [1,2,3,4, [44,55,66, True], False, (34,56,78,89,34), {1,2,3,3,2,1}, {1:34, \"key2\": [55, 67, 78, 89], 4: (45, 22, 61, 34)}, [56, 'data science'], 'Machine Learning']\n",
    "list2=extractor(list1)\n",
    "print(product(list2))"
   ]
  },
  {
   "cell_type": "markdown",
   "metadata": {},
   "source": [
    "Q2. Write a python program for encrypting a message sent to you by your friend. The logic of encryption\n",
    "should be such that, for a the output should be z. For b, the output should be y. For c, the output should\n",
    "be x respectively. Also, the whitespace should be replaced with a dollar sign. Keep the punctuation\n",
    "marks unchanged.\n",
    "Input Sentence: I want to become a Data Scientist.\n",
    "Encrypt the above input sentence using the program you just created.\n",
    "Note: Convert the given input sentence into lowercase before encrypting. The final output should be\n",
    "lowercase."
   ]
  },
  {
   "cell_type": "code",
   "execution_count": 54,
   "metadata": {},
   "outputs": [
    {
     "name": "stdout",
     "output_type": "stream",
     "text": [
      "Original message:\n",
      " I want to become a Data Scientist.\n",
      "\n",
      "Encrypted message:\n",
      " r$dzmg$gl$yvxlnv$z$wzgz$hxrvmgrhg.\n"
     ]
    }
   ],
   "source": [
    "def Encryption(msg):\n",
    "    code = {\n",
    "        'a': 'z', 'b': 'y', 'c': 'x', 'd': 'w', 'e': 'v',\n",
    "        'f': 'u', 'g': 't', 'h': 's', 'i': 'r', 'j': 'q',\n",
    "        'k': 'p', 'l': 'o', 'm': 'n', 'n': 'm', 'o': 'l',\n",
    "        'p': 'k', 'q': 'j', 'r': 'i', 's': 'h', 't': 'g',\n",
    "        'u': 'f', 'v': 'e', 'w': 'd', 'x': 'c', 'y': 'b',\n",
    "        'z': 'a', ' ': '$'\n",
    "    }\n",
    "\n",
    "    return ''.join(code.get(char, char) for char in msg.lower())\n",
    "\n",
    "Input_Sentence= 'I want to become a Data Scientist.'\n",
    "Encrypted = Encryption(Input_Sentence)\n",
    "\n",
    "print(\"Original message:\\n\",Input_Sentence)\n",
    "print(\"\\nEncrypted message:\\n\",Encrypted)\n"
   ]
  }
 ],
 "metadata": {
  "kernelspec": {
   "display_name": "Python 3",
   "language": "python",
   "name": "python3"
  },
  "language_info": {
   "codemirror_mode": {
    "name": "ipython",
    "version": 3
   },
   "file_extension": ".py",
   "mimetype": "text/x-python",
   "name": "python",
   "nbconvert_exporter": "python",
   "pygments_lexer": "ipython3",
   "version": "3.12.2"
  }
 },
 "nbformat": 4,
 "nbformat_minor": 2
}
