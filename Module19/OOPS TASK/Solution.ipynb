{
 "cells": [
  {
   "cell_type": "markdown",
   "metadata": {},
   "source": [
    "Q1, Create a vehicle class with an init method having instance variables as name_of_vehicle, max_speed\n",
    "and average_of_vehicle.\n"
   ]
  },
  {
   "cell_type": "code",
   "execution_count": 14,
   "metadata": {},
   "outputs": [],
   "source": [
    "#A1.\n",
    "class vechile:\n",
    "    def  __init__(self, name_of_vehicle, max_speed, average_of_vehicle):\n",
    "        self.name_of_vehicle = name_of_vehicle\n",
    "        self.max_speed = max_speed\n",
    "        self.average_of_vehicle = average_of_vehicle"
   ]
  },
  {
   "cell_type": "markdown",
   "metadata": {},
   "source": [
    "Q2. Create a child class car from the vehicle class created in Ques 1, which will inherit the vehicle class.\n",
    "Create a method named seating_capacity which takes capacity as an argument and returns the name of\n",
    "the vehicle and its seating capacity.\n"
   ]
  },
  {
   "cell_type": "code",
   "execution_count": 15,
   "metadata": {},
   "outputs": [
    {
     "name": "stdout",
     "output_type": "stream",
     "text": [
      "The Toyota has a seating capacity  of 4.\n"
     ]
    }
   ],
   "source": [
    "#A2.\n",
    "class vechile:\n",
    "    def  __init__(self, name_of_vehicle, max_speed, average_of_vehicle):\n",
    "        self.name_of_vehicle = name_of_vehicle\n",
    "        self.max_speed = max_speed\n",
    "        self.average_of_vehicle = average_of_vehicle\n",
    "    \n",
    "class car(vechile):\n",
    "    def seating_capacity(self,capacity):\n",
    "        return (\"The {} has a seating capacity  of {}.\".format(self.name_of_vehicle,capacity))\n",
    "        \n",
    "my_car= car('Toyota',150,'Red')\n",
    "print(my_car.seating_capacity(4))"
   ]
  },
  {
   "cell_type": "markdown",
   "metadata": {},
   "source": [
    "Q3. What is multiple inheritance? Write a python code to demonstrate multiple inheritance.\n"
   ]
  },
  {
   "cell_type": "markdown",
   "metadata": {},
   "source": [
    "A3. When a new class is derived from more than one parent class, it is called multiple inheritance."
   ]
  },
  {
   "cell_type": "code",
   "execution_count": 4,
   "metadata": {},
   "outputs": [
    {
     "name": "stdout",
     "output_type": "stream",
     "text": [
      "Parent1 method1\n",
      "Parent2 method2\n",
      "child with 2 parent class\n"
     ]
    }
   ],
   "source": [
    "class Parent1:\n",
    "    def method1(self):\n",
    "        print(\"Parent1 method1\")\n",
    "\n",
    "class Parent2:\n",
    "    def method2(self):\n",
    "        print(\"Parent2 method2\")\n",
    "\n",
    "class Child(Parent1, Parent2):\n",
    "    def method3(self):\n",
    "        print(\"Hi, I am a child with 2 parent class\")\n",
    "\n",
    "child = Child()\n",
    "child.method1()\n",
    "child.method2()\n",
    "child.method3()"
   ]
  },
  {
   "cell_type": "markdown",
   "metadata": {},
   "source": [
    "Q4. What are getter and setter in python? Create a class and create a getter and a setter method in this\n",
    "class."
   ]
  },
  {
   "cell_type": "markdown",
   "metadata": {},
   "source": [
    "A4. Getter Methods:\n",
    "Getters are used to retrieve the value of an object’s attributes i.e. private or protected.\n",
    "They provide a way to read data without directly accessing the attributes.\n",
    "\n",
    "Setter Methods:\n",
    "Setters are used to modify the value of an object’s attributes i.e. private or protected.\n",
    "They allow us to set data for an attribute while maintaining encapsulation.\n"
   ]
  },
  {
   "cell_type": "code",
   "execution_count": 7,
   "metadata": {},
   "outputs": [
    {
     "name": "stdout",
     "output_type": "stream",
     "text": [
      "Original name: Ritik\n",
      "Updated name: Raj\n"
     ]
    }
   ],
   "source": [
    "class Person:\n",
    "    def __init__(self, name, age):\n",
    "        self.__name = name  \n",
    "\n",
    "    # Getter method\n",
    "    def get_name(self):\n",
    "        return self.__name\n",
    "\n",
    "    # Setter method\n",
    "    def set_name(self, new_name):\n",
    "        self.__name = new_name\n",
    "\n",
    "person1 = Person(\"Ritik\", 26)\n",
    "print(f\"Original name: {person1.get_name()}\")\n",
    "\n",
    "person1.set_name(\"Raj\")\n",
    "print(f\"Updated name: {person1.get_name()}\")\n"
   ]
  },
  {
   "cell_type": "markdown",
   "metadata": {},
   "source": [
    "Q5.What is method overriding in python? Write a python code to demonstrate method overriding."
   ]
  },
  {
   "cell_type": "markdown",
   "metadata": {},
   "source": [
    "A5. When a method in a subclass has the same name, parameters, and return type as a method in its superclass, the subclass method overrides the superclass method. Essentially, it allows us to customize the behavior of inherited methods."
   ]
  },
  {
   "cell_type": "code",
   "execution_count": 13,
   "metadata": {},
   "outputs": [
    {
     "name": "stdout",
     "output_type": "stream",
     "text": [
      "We all know that Humans can work.\n",
      "Man can also cook and Woman can also drive.\n"
     ]
    }
   ],
   "source": [
    "class human:\n",
    "    def work(self):\n",
    "        return  \"Humans can work\"\n",
    "\n",
    "class man(human):\n",
    "    def work(self):\n",
    "        return \"Man can also cook\"\n",
    "    \n",
    "class woman(human):\n",
    "    def work(self):\n",
    "        return \"Woman can also drive\"\n",
    "    \n",
    "ob_man = man()\n",
    "ob_woman = woman()\n",
    "ob_human = human()\n",
    "print(f\"We all know that {ob_human.work()}.\")\n",
    "print(f\"{ob_man.work()} and {ob_woman.work()}.\")"
   ]
  }
 ],
 "metadata": {
  "kernelspec": {
   "display_name": "Python 3",
   "language": "python",
   "name": "python3"
  },
  "language_info": {
   "codemirror_mode": {
    "name": "ipython",
    "version": 3
   },
   "file_extension": ".py",
   "mimetype": "text/x-python",
   "name": "python",
   "nbconvert_exporter": "python",
   "pygments_lexer": "ipython3",
   "version": "3.12.2"
  }
 },
 "nbformat": 4,
 "nbformat_minor": 2
}
