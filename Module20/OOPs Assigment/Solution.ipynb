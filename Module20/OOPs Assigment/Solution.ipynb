{
 "cells": [
  {
   "cell_type": "markdown",
   "metadata": {},
   "source": [
    "Q1. Which function is used to open a file? What are the different modes of opening a file? Explain each mode  of file opening. "
   ]
  },
  {
   "cell_type": "markdown",
   "metadata": {},
   "source": [
    "\n",
    "A1. In Python, the open() function is used to open a file. It takes two main arguments: the file path and the mode in which the file should be opened. The mode parameter specifies the purpose for which the file is opened and determines whether the file will be read, written, or both.\n",
    "\n",
    "The different modes of opening a file in Python:\n",
    "\n",
    "1) 'r' (Read Mode): This mode opens a file for reading. The file pointer is placed at the beginning of the file. If the file does not exist, it raises a FileNotFoundError.\n",
    "\n",
    "2) 'w' (Write Mode): This mode opens a file for writing. If the file already exists, it truncates the file to zero length. If the file does not exist, it creates a new file for writing.\n",
    "\n",
    "3) 'a' (Append Mode): This mode opens a file for appending. The file pointer is placed at the end of the file. If the file does not exist, it creates a new file for writing.\n",
    "\n",
    "4) 'r+' (Read/Write Mode): This mode opens a file for both reading and writing. The file pointer is placed at the beginning of the file.\n",
    "\n",
    "5) 'w+' (Write/Read Mode): This mode opens a file for reading and writing. If the file already exists, it truncates the file to zero length. If the file does not exist, it creates a new file for reading and writing.\n",
    "\n",
    "6) 'a+' (Append/Read Mode): This mode opens a file for reading and appending. The file pointer is placed at the end of the file. If the file does not exist, it creates a new file for reading and writing.\n",
    "\n",
    "7) 'x' (Exclusive Creation): This mode creates a new file and opens it for writing. If the file already exists, the operation fails and raises a FileExistsError"
   ]
  },
  {
   "cell_type": "markdown",
   "metadata": {},
   "source": [
    "Q2. Why close() function is used? Why is it important to close a file? "
   ]
  },
  {
   "cell_type": "markdown",
   "metadata": {},
   "source": [
    "A2. The close() function in Python is used to close an open file. It is important to close a file after the transaction has been finished because of several reasons:\n",
    "\n",
    "1) Resource Management: If not closed properly, the resources may remain allocated even after the transaction has been finished, leading to resource leakage and potentially causing the program to run out of available resources.\n",
    "\n",
    "2) Data Integrity: Closing a file ensures that any data that has been buffered or cached in memory is properly flushed to the file on disk. If not closed, changes may not be saved, leading to data loss or corruption.\n",
    "\n",
    "3) File Locking: Closing the file releases any locks that may have been placed on it, allowing other operations on the file to proceed unimpeded.\n",
    "\n",
    "4) Best Practice: Closing files is considered as a good programming practice. It helps the code more robust, easier to understand, and less prone to errors."
   ]
  },
  {
   "cell_type": "markdown",
   "metadata": {},
   "source": [
    "Q3. Write a python program to create a text file. Write ‘I want to become a Data Scientist’ in that file. Then  close the file. Open this file and read the content of the file.   \n"
   ]
  },
  {
   "cell_type": "code",
   "execution_count": 11,
   "metadata": {},
   "outputs": [
    {
     "name": "stdout",
     "output_type": "stream",
     "text": [
      "File saved !\n",
      "I want to become a Data Scientist.\n"
     ]
    }
   ],
   "source": [
    "#A3.\n",
    "\n",
    "with open('dream.txt','w') as f:\n",
    "    f.write('I want to become a Data Scientist.')\n",
    "print('File saved !')\n",
    "\n",
    "print(open('dream.txt').read())\n",
    "f.close()"
   ]
  },
  {
   "cell_type": "markdown",
   "metadata": {},
   "source": [
    "Q4. Explain the following with python code: read(), readline() and readlines(). \n"
   ]
  },
  {
   "cell_type": "markdown",
   "metadata": {},
   "source": [
    "A4. In Python, read(), readline(), and readlines() are methods used to read data from a file.\n",
    "\n",
    "1) read(): This method reads a specified number of bytes from a file. If no argument is provided, it reads the entire file.\n",
    "\n",
    "2) readline(): This method reads a single line from the file. Each time it's called, it advances to the next line.\n",
    "\n",
    "3) readlines(): This method reads all lines from the file and returns them as a list of strings, where each string represents a line from the file.\n"
   ]
  },
  {
   "cell_type": "code",
   "execution_count": 9,
   "metadata": {},
   "outputs": [
    {
     "name": "stdout",
     "output_type": "stream",
     "text": [
      "\n",
      " ....Read....\n",
      "I am Ritik\n",
      "\n",
      " ....Readline....\n",
      "I want to become a Data Scientist.\n",
      "\n",
      " ....Readlines....\n",
      "I am Ritik Raj.\n",
      "\n",
      "I want to become a Data Scientist.\n"
     ]
    }
   ],
   "source": [
    "with open('pwskills.txt','w') as f:\n",
    "    f.write('I am Ritik Raj.\\nI want to become a Data Scientist.')\n",
    "print('\\n ....Read....')\n",
    "# read()\n",
    "with open('pwskills.txt', 'r') as file:\n",
    "    data = file.read(10)\n",
    "    print(data)\n",
    "\n",
    "print('\\n ....Readline....')\n",
    "# readline()\n",
    "with open('pwskills.txt', 'r') as file:\n",
    "    line1 = file.readline()\n",
    "    line2 = file.readline()\n",
    "    #print(line1)\n",
    "    print(line2)\n",
    "\n",
    "print('\\n ....Readlines....')\n",
    "# readlines()\n",
    "with open('pwskills.txt', 'r') as file:\n",
    "    lines = file.readlines()\n",
    "    for line in lines:\n",
    "        print(line)"
   ]
  },
  {
   "cell_type": "markdown",
   "metadata": {},
   "source": [
    "Q5. Explain why with statement is used with open(). What is the advantage of using with statement and  open() together?"
   ]
  },
  {
   "cell_type": "markdown",
   "metadata": {},
   "source": [
    "A5. The with statement in Python is used with the open() function to ensure proper handling of file resources. When used together, the with statement automatically takes care of opening and closing the file, ensuring that the file is closed properly after its 'block of code' finishes execution. \n",
    "\n",
    "Advantages:\n",
    "\n",
    "1) Automatic resource management: with statement guarantees that the file will be closed automatically once the block of code inside the with statement is executed, regardless of whether an exception occurs.\n",
    "\n",
    "2) Cleaner and more readable code: Using the with statement eliminates the need for explicit calls to close(), making the code more concise and easier to read.\n",
    "\n",
    "3) Prevents resource leaks: Forgetting to close a file after use can lead to resource leaks. The with statement ensures that the file is closed as soon as it's no longer needed, preventing potential resource leaks.\n",
    "\n",
    "4) Exception handling: The with statement provides built-in exception handling, ensuring that the file is closed even if an exception occurs during the execution."
   ]
  },
  {
   "cell_type": "markdown",
   "metadata": {},
   "source": [
    "Q6. Explain the write() and writelines() functions. Give a suitable example. "
   ]
  },
  {
   "cell_type": "markdown",
   "metadata": {},
   "source": [
    "A6. The write() function is used to write a single string to a file. It writes the string that is passed to the function into the opened file. \n",
    "\n",
    "The writelines() function is used to write a list of strings to a file. It writes the items of a list to the file. \n",
    "\n",
    "note: If the file is not opened, both the functions will throw an error."
   ]
  },
  {
   "cell_type": "code",
   "execution_count": 1,
   "metadata": {},
   "outputs": [
    {
     "name": "stdout",
     "output_type": "stream",
     "text": [
      "Employee Name: Ritik\n",
      "\n",
      "Employee Name: Ritik\n",
      "Employee Name: Raj\n",
      "Employee Name: Rishu\n",
      "\n"
     ]
    }
   ],
   "source": [
    "\n",
    "with open('employees1.txt', 'w') as file:\n",
    "    file.write('Employee Name: Ritik\\n')\n",
    "\n",
    "with open('employees1.txt', 'r') as file:\n",
    "    content = file.read()\n",
    "    print(content)\n",
    "\n",
    "\n",
    "employees = ['Employee Name: Ritik\\n', 'Employee Name: Raj\\n', 'Employee Name: Rishu\\n']\n",
    "\n",
    "with open('employees2.txt', 'w') as file:\n",
    "    file.writelines(employees)\n",
    "\n",
    "with open('employees2.txt', 'r') as file:\n",
    "    content = file.read()\n",
    "    print(content)"
   ]
  }
 ],
 "metadata": {
  "kernelspec": {
   "display_name": "Python 3",
   "language": "python",
   "name": "python3"
  },
  "language_info": {
   "codemirror_mode": {
    "name": "ipython",
    "version": 3
   },
   "file_extension": ".py",
   "mimetype": "text/x-python",
   "name": "python",
   "nbconvert_exporter": "python",
   "pygments_lexer": "ipython3",
   "version": "3.12.2"
  }
 },
 "nbformat": 4,
 "nbformat_minor": 2
}
