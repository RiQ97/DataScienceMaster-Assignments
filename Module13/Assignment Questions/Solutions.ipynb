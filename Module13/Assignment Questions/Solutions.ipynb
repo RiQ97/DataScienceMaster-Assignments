{
 "cells": [
  {
   "cell_type": "markdown",
   "metadata": {},
   "source": [
    "Q1. Explain Class and object with respect to Object-Oriented Programming. Give a suitable example.\n",
    "\n",
    "A1. Class is the blueprint of any entity. It contains the function, variables and other specifications related to that entity.\n",
    "Object helps to use those functions, variables etc, present inside a class. \n",
    "\n",
    "Classes allow us to logically group our data & function in a way that it will be easy to reuse & easy to build upon when needed. \n",
    "Object creates the instance of that class, invokes the properties of the class so that it can be used.\n",
    "\n",
    "We need a parameter to pass through the functions inside a class to bind it with the class. 'self' is used by convention.\n",
    "To bind the variables with the class we, again use 'self.' before the variable name."
   ]
  },
  {
   "cell_type": "code",
   "execution_count": 2,
   "metadata": {},
   "outputs": [
    {
     "name": "stdout",
     "output_type": "stream",
     "text": [
      "Shubh Doe\n",
      "Email Address:Ritik.Raj@company.com\n",
      "\n"
     ]
    }
   ],
   "source": [
    "class DSM:\n",
    "    def __init__(self,first,last,email):\n",
    "        self.first=first\n",
    "        self.last=last\n",
    "        self.email=first+'.'+last+'@company.com'\n",
    "    def fullname(self):\n",
    "        return f'{self.first} {self.last}'\n",
    "    def email_address(self):\n",
    "        return f'Email Address:{self.email}\\n'\n",
    "    \n",
    "std1=DSM('Ritik','Raj',None)\n",
    "std2=DSM('Shubh','Doe',None)\n",
    "\n",
    "print(std2.fullname())\n",
    "print(std1.email_address())"
   ]
  },
  {
   "cell_type": "markdown",
   "metadata": {},
   "source": [
    "Q2. Name the four pillars of OOPs.\n",
    "\n",
    "A2. The 4 pillars of OOPs are - \n",
    "\n",
    "1. Abstraction: Abstraction is the practice of defining an interface for an object without specifying its implementation. This allows us to define the behavior of an object without specifying how it is implemented.\n",
    "\n",
    "2. Encapsulation: Encapsulation is combining data and the code that manipulates it into a single unit and keeping both safe from outside interference and misuse. \n",
    "\n",
    "3. Inheritance: It is building new capabilities on top of existing ones subclasses. Inheritance extends and modify the behavior defined in their superclasses.\n",
    "\n",
    "4. Polymorphism: It allowing entities to take on more than one form the program decides which meaning or usage is necessary for each execution of that entity usually a method or an object."
   ]
  },
  {
   "cell_type": "markdown",
   "metadata": {},
   "source": [
    "Q3. Explain why the __init__() function is used. Give a suitable example.\n",
    "\n",
    "A3. The __init__() function is used as a constructor in object oriented programming. It is used to initialize the attributes of an object and set its initial state."
   ]
  },
  {
   "cell_type": "code",
   "execution_count": 3,
   "metadata": {},
   "outputs": [
    {
     "name": "stdout",
     "output_type": "stream",
     "text": [
      "200\n"
     ]
    }
   ],
   "source": [
    "class Rectangle:\n",
    "    def __init__(self, width, height):\n",
    "        self.width = width\n",
    "        self.height = height\n",
    "\n",
    "    def area(self):\n",
    "        return self.width * self.height\n",
    "\n",
    "rectangle = Rectangle(10, 20)\n",
    "print(rectangle.area())  "
   ]
  },
  {
   "cell_type": "markdown",
   "metadata": {},
   "source": [
    "Q4. Why self is used in OOPs?\n",
    "\n",
    "A4. In Python, the self keyword is used to bind methods and variables to an object. When we define a method inside a class, we need to pass self as the first argument. This tells Python that the method belongs to the class and that it should be called on an instance of the class."
   ]
  },
  {
   "cell_type": "code",
   "execution_count": 5,
   "metadata": {},
   "outputs": [
    {
     "name": "stdout",
     "output_type": "stream",
     "text": [
      "200\n"
     ]
    }
   ],
   "source": [
    "class Rectangle:\n",
    "    def __init__(self, width, height):\n",
    "        self.width = width\n",
    "        self.height = height\n",
    "\n",
    "    def area(self):\n",
    "        return self.width * self.height\n",
    "\n",
    "rectangle = Rectangle(10, 20)\n",
    "print(rectangle.area()) "
   ]
  },
  {
   "cell_type": "markdown",
   "metadata": {},
   "source": [
    "Q5. What is inheritance? Give an example for each type of inheritance.\n",
    "\n",
    "A5. It is building new capabilities on top of existing ones subclasses. Inheritance extends and modify the behavior defined in their superclasses.\n",
    "\n",
    "a. Single inheritance: Single inheritance is the simplest form of inheritance, in which a new class is derived from a single parent class, it is called single inheritance."
   ]
  },
  {
   "cell_type": "code",
   "execution_count": 7,
   "metadata": {},
   "outputs": [
    {
     "name": "stdout",
     "output_type": "stream",
     "text": [
      "Parent method\n"
     ]
    }
   ],
   "source": [
    "# Single Inheritance\n",
    "class Parent:\n",
    "    def method(self):\n",
    "        print(\"Parent method\")\n",
    "\n",
    "class Child(Parent):\n",
    "    pass\n",
    "\n",
    "child = Child()\n",
    "child.method()"
   ]
  },
  {
   "cell_type": "markdown",
   "metadata": {},
   "source": [
    "b. Multiple inheritance: When a new class is derived from more than one parent class, it is called multiple inheritance."
   ]
  },
  {
   "cell_type": "code",
   "execution_count": 6,
   "metadata": {},
   "outputs": [
    {
     "name": "stdout",
     "output_type": "stream",
     "text": [
      "Parent1 method1\n",
      "Parent2 method2\n"
     ]
    }
   ],
   "source": [
    "# Multiple Inheritance\n",
    "class Parent1:\n",
    "    def method1(self):\n",
    "        print(\"Parent1 method1\")\n",
    "\n",
    "class Parent2:\n",
    "    def method2(self):\n",
    "        print(\"Parent2 method2\")\n",
    "\n",
    "class Child(Parent1, Parent2):\n",
    "    pass\n",
    "\n",
    "child = Child()\n",
    "child.method1()\n",
    "child.method2()"
   ]
  },
  {
   "cell_type": "markdown",
   "metadata": {},
   "source": [
    "c. Multilevel inheritance: When a new class is derived from a parent class, which is derived from another parent class, it is called multilevel inheritance."
   ]
  },
  {
   "cell_type": "code",
   "execution_count": 12,
   "metadata": {},
   "outputs": [
    {
     "name": "stdout",
     "output_type": "stream",
     "text": [
      "GrandParent method\n",
      "Parent method\n"
     ]
    }
   ],
   "source": [
    "# Multilevel inheritance\n",
    "class GrandParent:\n",
    "    def method(self):\n",
    "        print(\"GrandParent method\")\n",
    "\n",
    "class Parent(GrandParent):\n",
    "    def method(self):\n",
    "        super().method()\n",
    "        print(\"Parent method\")\n",
    "\n",
    "class Child(Parent):\n",
    "    pass\n",
    "\n",
    "child = Child()\n",
    "child.method()"
   ]
  },
  {
   "cell_type": "markdown",
   "metadata": {},
   "source": [
    "d. Hybrid Inheritance: Hybrid inheritance refers to a combination of at least 2 of the above 3 mentioned inheritance. "
   ]
  },
  {
   "cell_type": "code",
   "execution_count": 13,
   "metadata": {},
   "outputs": [
    {
     "name": "stdout",
     "output_type": "stream",
     "text": [
      "GrandParent method\n",
      "Parent1 method1\n",
      "Parent2 method2\n"
     ]
    }
   ],
   "source": [
    "class GrandParent:\n",
    "    def method(self):\n",
    "        print(\"GrandParent method\")\n",
    "\n",
    "class Parent1(GrandParent):\n",
    "    def method1(self):\n",
    "        print(\"Parent1 method1\")\n",
    "\n",
    "class Parent2:\n",
    "    def method2(self):\n",
    "        print(\"Parent2 method2\")\n",
    "\n",
    "class Child(Parent1, Parent2):\n",
    "    pass\n",
    "\n",
    "child = Child()\n",
    "child.method()\n",
    "child.method1()\n",
    "child.method2()"
   ]
  }
 ],
 "metadata": {
  "kernelspec": {
   "display_name": "Python 3",
   "language": "python",
   "name": "python3"
  },
  "language_info": {
   "codemirror_mode": {
    "name": "ipython",
    "version": 3
   },
   "file_extension": ".py",
   "mimetype": "text/x-python",
   "name": "python",
   "nbconvert_exporter": "python",
   "pygments_lexer": "ipython3",
   "version": "3.12.2"
  }
 },
 "nbformat": 4,
 "nbformat_minor": 2
}
