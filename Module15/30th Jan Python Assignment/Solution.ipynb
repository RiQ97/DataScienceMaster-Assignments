{
 "cells": [
  {
   "cell_type": "markdown",
   "metadata": {},
   "source": [
    "Q1. Write a program to accept percentage from the user and display the grade according to the following criteria:\n",
    "Marks       Grade\n",
    ">90         - A\n",
    ">80 & <=90  - B\n",
    ">=60 & <=80 - C \n",
    "Below 60    - D"
   ]
  },
  {
   "cell_type": "code",
   "execution_count": 2,
   "metadata": {},
   "outputs": [
    {
     "name": "stdout",
     "output_type": "stream",
     "text": [
      "Your grade is:  Grade C\n"
     ]
    }
   ],
   "source": [
    "#A1.\n",
    "\n",
    "def result_finder(marks):\n",
    "    if (marks > 90):\n",
    "        return \"Grade A\"\n",
    "    elif (marks > 80 and marks <= 90):\n",
    "        return \"Grade B\"\n",
    "    elif (marks >= 60 and marks <= 80):\n",
    "        return \"Grade C\"\n",
    "    else:\n",
    "        return \"Grade D\"\n",
    "    \n",
    "try:\n",
    "    num = int(input('Please enter your marks: '))\n",
    "except ValueError:\n",
    "    print(\"Invalid input. Please enter an integer.\")\n",
    "else:\n",
    "    print(\"Your grade is: \", result_finder(num))"
   ]
  },
  {
   "cell_type": "markdown",
   "metadata": {},
   "source": [
    "Q2. Write a program to accept the cost price of a bike and display the road tax to be paid according to the following criteria: \n",
    "\n",
    "Tax       Cost Price(Rs)\n",
    "15%         - >100000\n",
    "10%         - >50000 and <= 100000\n",
    "5%          - <= 50000"
   ]
  },
  {
   "cell_type": "code",
   "execution_count": 5,
   "metadata": {},
   "outputs": [
    {
     "name": "stdout",
     "output_type": "stream",
     "text": [
      "The road tax:  5.0\n"
     ]
    }
   ],
   "source": [
    "#A2.\n",
    "def Tax_cal(b_price):\n",
    "    if (b_price >100000):\n",
    "        tax = b_price * 0.15\n",
    "    elif (b_price >50000) and (b_price <= 100000):\n",
    "        tax = b_price * 0.1\n",
    "    else:\n",
    "        tax = b_price * 0.05\n",
    "    return tax  \n",
    "\n",
    "try:\n",
    "    b_price=int(input(\"Enter the bike price : \"))\n",
    "except ValueError:\n",
    "    print(\"Invalid input. Please enter an integer.\")\n",
    "else:\n",
    "    print(\"The road tax: \",Tax_cal(b_price))"
   ]
  },
  {
   "cell_type": "markdown",
   "metadata": {},
   "source": [
    "Q3. Accept any city from the user and display monuments of that city:\n",
    "\n",
    "City       Monument\n",
    "Delhi      - Red Fort\n",
    "Agra       - Taj Mahal\n",
    "Jaipur     - Jal Mahal"
   ]
  },
  {
   "cell_type": "code",
   "execution_count": 19,
   "metadata": {},
   "outputs": [
    {
     "name": "stdout",
     "output_type": "stream",
     "text": [
      "This is an Invalid Entry dear !\n",
      "U should visit Delhi, Agra, Jaipur. Great place to visit here\n"
     ]
    }
   ],
   "source": [
    "#A3. \n",
    "import time\n",
    "\n",
    "def monum(city):\n",
    "    if city=='Delhi':\n",
    "        return 'Red Fort'\n",
    "    elif city=='Agra':\n",
    "        return  'Taj Mahal'\n",
    "    elif city=='Jaipur':\n",
    "        return 'Jal Mahal'\n",
    "    else:\n",
    "        print('This is an Invalid Entry dear !')\n",
    "        time.sleep(3)\n",
    "        return \"Delhi, Agra, Jaipur. Great place to visit\"\n",
    "    \n",
    "try:\n",
    "    city = input(\"Enter the name of the city: \").capitalize()\n",
    "except:\n",
    "    print(\"Unexpected error.\")\n",
    "else:\n",
    "    print(\"U should visit\", monum(city), \"here\")"
   ]
  },
  {
   "cell_type": "markdown",
   "metadata": {},
   "source": [
    "Q4 Check how many times a given number can be divided by 3 before it is less than or equal to 10. "
   ]
  },
  {
   "cell_type": "code",
   "execution_count": 22,
   "metadata": {},
   "outputs": [
    {
     "name": "stdout",
     "output_type": "stream",
     "text": [
      "We can divide 7000 by 3, 6 times, before it becomes less than or equal to 10\n"
     ]
    }
   ],
   "source": [
    "#A4.\n",
    "\n",
    "def Checker(num):\n",
    "    count = 0\n",
    "    while(num>10):\n",
    "        num/=3\n",
    "        count+=1\n",
    "    return count\n",
    "\n",
    "try:\n",
    "    num=int(input(\"Enter a number : \"))\n",
    "except ValueError:\n",
    "    print(\"Invalid input. Please enter an integer.\")\n",
    "else:\n",
    "    print(f'We can divide {num} by 3, {Checker(num)} times, before it becomes less than or equal to 10',)"
   ]
  },
  {
   "cell_type": "markdown",
   "metadata": {},
   "source": []
  }
 ],
 "metadata": {
  "kernelspec": {
   "display_name": "Python 3",
   "language": "python",
   "name": "python3"
  },
  "language_info": {
   "codemirror_mode": {
    "name": "ipython",
    "version": 3
   },
   "file_extension": ".py",
   "mimetype": "text/x-python",
   "name": "python",
   "nbconvert_exporter": "python",
   "pygments_lexer": "ipython3",
   "version": "3.12.2"
  }
 },
 "nbformat": 4,
 "nbformat_minor": 2
}
