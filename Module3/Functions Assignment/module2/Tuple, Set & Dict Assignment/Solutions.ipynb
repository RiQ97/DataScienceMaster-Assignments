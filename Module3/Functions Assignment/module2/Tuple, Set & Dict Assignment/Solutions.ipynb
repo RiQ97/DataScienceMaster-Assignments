{
 "cells": [
  {
   "cell_type": "markdown",
   "id": "0f535643-ce3d-4e97-810d-27d2db0e813d",
   "metadata": {
    "jupyter": {
     "outputs_hidden": true
    },
    "tags": []
   },
   "source": [
    "Q1. What are the characteristics of the tuples? Is tuple immutable?"
   ]
  },
  {
   "cell_type": "markdown",
   "id": "bd30d743-0047-4a37-9ef8-9aa8b16d2666",
   "metadata": {},
   "source": [
    "A1. Tuples are collection of data ordered, written inside paranthesis '(' and ')' seperated by comma ','. Tuples are unchangeable but allows duplicate values. It can store any type data type such as the strings, integers and booleans. To access the elements of a tuple we can use indexes. \n",
    "    Tuples are immutable meaning that we cannot add, remove or modify an item once the tuple is created. However we can create a new tuple by concatenating two or more tuples."
   ]
  },
  {
   "cell_type": "markdown",
   "id": "cc23d946-4213-4725-b147-2fbcbbedd0fb",
   "metadata": {},
   "source": [
    "Q2. What are the two tuple methods in python? Give an example of each method. Give a reason why\n",
    "tuples have only two in-built methods as compared to Lists."
   ]
  },
  {
   "cell_type": "markdown",
   "id": "6ba2bfbf-720c-4ee8-ae32-df3116c5cc0e",
   "metadata": {},
   "source": [
    "A2. The 2 methods are count & index. The count returns the number of times an element occurs in a tuple and the index returns the position of the first occurrence of an element in a tuple. Eg"
   ]
  },
  {
   "cell_type": "code",
   "execution_count": 5,
   "id": "9b72e2bc-d4d0-44d5-b0ec-d52897943350",
   "metadata": {},
   "outputs": [
    {
     "name": "stdout",
     "output_type": "stream",
     "text": [
      "<class 'tuple'>\n",
      "1\n",
      "2\n"
     ]
    }
   ],
   "source": [
    "name = ('ritik','raj','rishu','gita','raj')\n",
    "print(type(name))\n",
    "print(name.index('raj'))\n",
    "print(name.count('raj'))"
   ]
  },
  {
   "cell_type": "markdown",
   "id": "6502c4c7-c2b6-4bca-9dd2-048aaf31b054",
   "metadata": {},
   "source": [
    "Tuples have only these two methods because they are immutable meaning they cannot be changed added or removed once they are created this makes them more efficient and secure than lists which are mutable. Tuples are also useful for storing data that has a fixed structure like coordinates, dates or records."
   ]
  },
  {
   "cell_type": "markdown",
   "id": "7739273a-e1df-46a3-80fb-be44c4d7c073",
   "metadata": {},
   "source": [
    "Q3. Which collection datatypes in python do not allow duplicate items? Write a code using a set to remove\n",
    "duplicates from the given list.\n",
    "List = [1, 1, 1, 2, 1, 3, 1, 4, 2, 1, 2, 2, 2, 3, 2, 4, 3, 1, 3, 2, 3, 3, 3, 4, 4, 1, 4, 2, 4, 3, 4, 4]"
   ]
  },
  {
   "cell_type": "markdown",
   "id": "ebdf9f43-7148-44c6-bfb3-bd4e4ef81ad4",
   "metadata": {},
   "source": [
    "A3. The collection data types in Python that do not allow duplicate items are set and dictionary. These data types are unordered and unindexed. They only store unique objects and do not support duplicated objects."
   ]
  },
  {
   "cell_type": "code",
   "execution_count": 8,
   "id": "6c9bc816-f400-454e-9786-3d739ed41d58",
   "metadata": {},
   "outputs": [
    {
     "name": "stdout",
     "output_type": "stream",
     "text": [
      "{1, 2, 3, 4}\n"
     ]
    }
   ],
   "source": [
    "List = [1, 1, 1, 2, 1, 3, 1, 4, 2, 1, 2, 2, 2, 3, 2, 4, 3, 1, 3, 2, 3, 3, 3, 4, 4, 1, 4, 2, 4, 3, 4, 4]\n",
    "set1 = set(List)\n",
    "print(set1)"
   ]
  },
  {
   "cell_type": "code",
   "execution_count": null,
   "id": "7fe321bc-3d00-41e7-aea8-fff3501a472c",
   "metadata": {},
   "outputs": [],
   "source": [
    "Q4. Explain the difference between the union() and update() methods for a set. Give an example of\n",
    "each method."
   ]
  },
  {
   "cell_type": "markdown",
   "id": "db0faf66-b2fb-4d23-b7b0-0d94827e92c0",
   "metadata": {},
   "source": [
    "A4. These methods for a set are both used to combine two or more sets into one. However they have different effects on the original sets and different return values. Lets assume we have 2 sets A & B\n",
    "-> Union method returns a new set that contains all the elements from both A & B, without modifying either one of them.\n",
    "-> Update method modifies the selected set by placing new elements of the other set. The selected set gets modified. "
   ]
  },
  {
   "cell_type": "code",
   "execution_count": 12,
   "id": "b423fa59-ee0b-41c6-89d3-200e2dc9200d",
   "metadata": {},
   "outputs": [
    {
     "name": "stdout",
     "output_type": "stream",
     "text": [
      "None {1, 2, 3, 4, 5} {1, 2, 3, 4, 5} {1, 2, 3, 4, 5} {3, 4}\n",
      "None {1, 2, 3, 4, 5} {1, 2, 3, 4, 5} {1, 2, 3, 4, 5} {1, 2, 3, 4, 5}\n"
     ]
    }
   ],
   "source": [
    "set1 = {1,2,3,4,5}\n",
    "set2 = {3,4}\n",
    "set3 = set1.union(set2)\n",
    "set4 = set2.union(set1)\n",
    "set5 = set1.update(set2)\n",
    "print(set5,set4,set3,set1,set2)\n",
    "set5 = set2.update(set1)\n",
    "print(set5,set4,set3,set1,set2)"
   ]
  },
  {
   "cell_type": "markdown",
   "id": "203a7e66-847d-419a-8522-404384297b6f",
   "metadata": {},
   "source": [
    "Q5. What is a dictionary? Give an example. Also, state whether a dictionary is ordered or unordered."
   ]
  },
  {
   "cell_type": "markdown",
   "id": "7f08313e-7259-483b-af77-16a205db8afb",
   "metadata": {},
   "source": [
    "A5. A dictionary is a collection which is ordered, changeable and does not allow duplicates. Dictionaries are written with curly braces and have keys and values. The key can be a string, number or boolean but it cannot be any special character. The key can even be a tuple as tuples are hashable. The key can't be dictionary, list or a set as they are unhashable.\n",
    "    A dictionary is ordered data collect Because it preserves the insertion order of the key value pairs."
   ]
  },
  {
   "cell_type": "code",
   "execution_count": 22,
   "id": "2c62f172-1d15-4396-a87e-fd546f085130",
   "metadata": {},
   "outputs": [
    {
     "name": "stdout",
     "output_type": "stream",
     "text": [
      "<class 'dict'> \n",
      " {'key': {'name': 'Raj', 'class': 'DSM'}, 22: 'pin code'}\n"
     ]
    }
   ],
   "source": [
    "mydict= {'key' : {'name':'Raj','class':'DSM'}, 22 : 'pin code'}\n",
    "print(type(mydict),'\\n',mydict)"
   ]
  },
  {
   "cell_type": "markdown",
   "id": "4044cd48-3538-46f7-8bce-1997e26a4248",
   "metadata": {},
   "source": [
    "Q6. Can we create a nested dictionary? If so, please give an example by creating a simple one-level\n",
    "nested dictionary."
   ]
  },
  {
   "cell_type": "markdown",
   "id": "59949fd4-1b18-4c30-b3ff-b2ffb1aa871b",
   "metadata": {},
   "source": [
    "A6. Yes, we can create a nested dictionary in Python. A nested dictionary is a dictionary that contains another dictionary as a value. for example"
   ]
  },
  {
   "cell_type": "code",
   "execution_count": 23,
   "id": "beda1434-76ae-4f8c-9776-ea4729494cbd",
   "metadata": {},
   "outputs": [
    {
     "name": "stdout",
     "output_type": "stream",
     "text": [
      "<class 'dict'> \n",
      " {'key': {'name': 'Raj', 'class': 'DSM'}, 22: 'pin code'}\n"
     ]
    }
   ],
   "source": [
    "mydict= {'key' : {'name':'Raj','class':'DSM'}, 22 : 'pin code'}\n",
    "print(type(mydict),'\\n',mydict)"
   ]
  },
  {
   "cell_type": "markdown",
   "id": "61b75465-fbaa-48e5-b458-e95d04bdd725",
   "metadata": {},
   "source": [
    "Q7. Using setdefault() method, create key named topics in the given dictionary and also add the value of\n",
    "the key as this list ['Python', 'Machine Learning', 'Deep Learning']\n",
    "dict1 = {'language' : 'Python', 'course': 'Data Science Masters'}"
   ]
  },
  {
   "cell_type": "code",
   "execution_count": 29,
   "id": "06f17033-1257-4997-839c-2873b6687e26",
   "metadata": {},
   "outputs": [
    {
     "name": "stdout",
     "output_type": "stream",
     "text": [
      "['Python', 'Machine Learning', 'Deep Learning'] \n",
      " {'language': 'Python', 'course': 'Data Science Masters', 'topic': ['Python', 'Machine Learning', 'Deep Learning']}\n",
      "['Python', 'Machine Learning', 'Deep Learning'] \n",
      " {'language': 'Python', 'course': 'Data Science Masters', 'topic': ['Python', 'Machine Learning', 'Deep Learning']}\n"
     ]
    }
   ],
   "source": [
    "dict1 = {'language' : 'Python', 'course': 'Data Science Masters'}\n",
    "dict2 = dict1.setdefault('topic', ['Python', 'Machine Learning', 'Deep Learning'])\n",
    "print(dict2,'\\n',dict1)\n",
    "dict3 = dict1.setdefault('topic', \"can't be updated as it already have a value now\")\n",
    "print(dict3,'\\n',dict1)"
   ]
  },
  {
   "cell_type": "markdown",
   "id": "165a1c50-0f36-470b-9875-a6bad6f2988a",
   "metadata": {},
   "source": [
    "Q8. What are the three view objects in dictionaries? Use the three in-built methods in python to display\n",
    "these three view objects for the given dictionary.\n",
    "dict1 = {'Sport': 'Cricket' , 'Teams': ['India', 'Australia', 'England', 'South Africa', 'Sri Lanka', 'New Zealand']}"
   ]
  },
  {
   "cell_type": "markdown",
   "id": "b007d25f-7638-4873-bfda-c8cabdb42aad",
   "metadata": {},
   "source": [
    "The 3 views in dictionary are\n",
    "1) dict.keys() - it returns keys in list format\n",
    "2) dict.values() - it returns values in list format\n",
    "3) dict.items() - it returns both keys & values in list format"
   ]
  },
  {
   "cell_type": "code",
   "execution_count": 6,
   "id": "184d258c-969c-4dfc-8642-36bb8e3f6dd7",
   "metadata": {},
   "outputs": [
    {
     "name": "stdout",
     "output_type": "stream",
     "text": [
      "dict_keys(['Sport', 'Teams']) \n",
      " dict_values(['Cricket', ['India', 'Australia', 'England', 'South Africa', 'Sri Lanka', 'New Zealand']]) \n",
      " dict_items([('Sport', 'Cricket'), ('Teams', ['India', 'Australia', 'England', 'South Africa', 'Sri Lanka', 'New Zealand'])])\n",
      "<class 'dict_keys'> <class 'dict_values'> <class 'dict_items'>\n"
     ]
    }
   ],
   "source": [
    "dict1 = {'Sport': 'Cricket' , 'Teams': ['India', 'Australia', 'England', 'South Africa', 'Sri Lanka', 'New Zealand']}\n",
    "a,b,c=dict1.keys(),dict1.values(),dict1.items()\n",
    "print(a,'\\n',b,'\\n',c)\n",
    "print(type(a),type(b),type(c))"
   ]
  }
 ],
 "metadata": {
  "kernelspec": {
   "display_name": "Python 3 (ipykernel)",
   "language": "python",
   "name": "python3"
  },
  "language_info": {
   "codemirror_mode": {
    "name": "ipython",
    "version": 3
   },
   "file_extension": ".py",
   "mimetype": "text/x-python",
   "name": "python",
   "nbconvert_exporter": "python",
   "pygments_lexer": "ipython3",
   "version": "3.10.8"
  }
 },
 "nbformat": 4,
 "nbformat_minor": 5
}
