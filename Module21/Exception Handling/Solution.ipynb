{
 "cells": [
  {
   "cell_type": "markdown",
   "metadata": {},
   "source": [
    "Q1. What is an Exception in python? Write the difference between Exceptions and Syntax errors."
   ]
  },
  {
   "cell_type": "markdown",
   "metadata": {},
   "source": [
    "A1. A1. An exception in Python is an event that occurs during the execution of a program that disrupts the normal flow of the program's instructions. When a Python script encounters a situation that it cannot handle, it raises an exception. This exception can be caught and handled using try and except blocks to prevent the program from crashing.\n",
    "\n",
    "Difference between Exceptions and Syntax Errors\n",
    "\n",
    "Exceptions: Exceptions are the unexpected errors that occur during the execution of a program. Exceptions occur at runtime.\n",
    "Syntax Errors: Syntax errors are mistakes in the syntax of the code. These errors are detected before the execution of a program, during the compile time.\n",
    "\n",
    "Exceptions: Exceptions can be handled using try-except blocks. This allows the program to continue running even if an error occurs.\n",
    "Syntax Errors: Syntax errors cannot be handled using try-except blocks. The code needs to be corrected before it can be executed."
   ]
  },
  {
   "cell_type": "markdown",
   "metadata": {},
   "source": [
    "Q2. What happen when an exception is not handled? Explain with example."
   ]
  },
  {
   "cell_type": "markdown",
   "metadata": {},
   "source": [
    "A2. When an exception is not handled in Python, the program terminates with an error message. This message includes the type of exception, a description of the error, and a log showing the sequence of function calls that led to the error. Any code after the point where the exception occurs will not be executed."
   ]
  },
  {
   "cell_type": "code",
   "execution_count": 2,
   "metadata": {},
   "outputs": [
    {
     "ename": "ZeroDivisionError",
     "evalue": "division by zero",
     "output_type": "error",
     "traceback": [
      "\u001b[1;31m---------------------------------------------------------------------------\u001b[0m",
      "\u001b[1;31mZeroDivisionError\u001b[0m                         Traceback (most recent call last)",
      "Cell \u001b[1;32mIn[2], line 4\u001b[0m\n\u001b[0;32m      1\u001b[0m \u001b[38;5;28;01mdef\u001b[39;00m \u001b[38;5;21mdivide\u001b[39m(a, b):\n\u001b[0;32m      2\u001b[0m     \u001b[38;5;28;01mreturn\u001b[39;00m a \u001b[38;5;241m/\u001b[39m b\n\u001b[1;32m----> 4\u001b[0m result \u001b[38;5;241m=\u001b[39m \u001b[43mdivide\u001b[49m\u001b[43m(\u001b[49m\u001b[38;5;241;43m10\u001b[39;49m\u001b[43m,\u001b[49m\u001b[43m \u001b[49m\u001b[38;5;241;43m0\u001b[39;49m\u001b[43m)\u001b[49m\n\u001b[0;32m      5\u001b[0m \u001b[38;5;28mprint\u001b[39m(\u001b[38;5;124m\"\u001b[39m\u001b[38;5;124mThis line will not be executed as exception occurred.\u001b[39m\u001b[38;5;124m\"\u001b[39m)\n",
      "Cell \u001b[1;32mIn[2], line 2\u001b[0m, in \u001b[0;36mdivide\u001b[1;34m(a, b)\u001b[0m\n\u001b[0;32m      1\u001b[0m \u001b[38;5;28;01mdef\u001b[39;00m \u001b[38;5;21mdivide\u001b[39m(a, b):\n\u001b[1;32m----> 2\u001b[0m     \u001b[38;5;28;01mreturn\u001b[39;00m \u001b[43ma\u001b[49m\u001b[43m \u001b[49m\u001b[38;5;241;43m/\u001b[39;49m\u001b[43m \u001b[49m\u001b[43mb\u001b[49m\n",
      "\u001b[1;31mZeroDivisionError\u001b[0m: division by zero"
     ]
    }
   ],
   "source": [
    "def divide(a, b):\n",
    "    return a / b\n",
    "\n",
    "result = divide(10, 0)\n",
    "print(\"This line will not be executed as exception occurred.\")\n"
   ]
  },
  {
   "cell_type": "code",
   "execution_count": 3,
   "metadata": {},
   "outputs": [
    {
     "name": "stdout",
     "output_type": "stream",
     "text": [
      "Error: Cannot divide by zero\n",
      "This line will be executed as the exception is being handled properly.\n"
     ]
    }
   ],
   "source": [
    "def safe_divide(a, b):\n",
    "    try:\n",
    "        return a / b\n",
    "    except ZeroDivisionError:\n",
    "        print(\"Error: Cannot divide by zero\")\n",
    "        return None\n",
    "\n",
    "result = safe_divide(10, 0)\n",
    "print(\"This line will be executed as the exception is being handled properly.\")\n"
   ]
  },
  {
   "cell_type": "markdown",
   "metadata": {},
   "source": [
    "Q3. Which Python statement are used to catch and handle exceptions ? Explain with example."
   ]
  },
  {
   "cell_type": "markdown",
   "metadata": {},
   "source": [
    "A3. In Python, exceptions are caught and handled using the try-except statement. This allows us to run code that might raise an exception and then handle that exception gracefully, rather than letting the program crash.\n",
    "\n",
    "Try Block: We place the doubtful code inside the try block. If an exception occurs, the remaining code in the try block is skipped.\n",
    "Except Block: If an exception specified in the except block occurs, the code inside the except block is executed.\n",
    "Else Block: An else block can be used to execute code if no exceptions are raised in the try block.\n",
    "Finally Block: A finally block can be used to execute code whether or not an exception occurs."
   ]
  },
  {
   "cell_type": "code",
   "execution_count": 4,
   "metadata": {},
   "outputs": [
    {
     "name": "stdout",
     "output_type": "stream",
     "text": [
      "Division successful, result is: 5.0\n",
      "Execution complete\n",
      "Error: Cannot divide by zero\n",
      "Execution complete\n",
      "Error: Invalid input type\n",
      "Execution complete\n"
     ]
    }
   ],
   "source": [
    "def divide_numbers(a, b):\n",
    "    try:\n",
    "        result = a / b\n",
    "    except ZeroDivisionError:\n",
    "        print(\"Error: Cannot divide by zero\")\n",
    "    except TypeError:\n",
    "        print(\"Error: Invalid input type\")\n",
    "    else:\n",
    "        print(\"Division successful, result is:\", result)\n",
    "    finally:\n",
    "        print(\"Execution complete\")\n",
    "\n",
    "divide_numbers(10, 2)\n",
    "divide_numbers(10, 0)\n",
    "divide_numbers(10, 'a')"
   ]
  },
  {
   "cell_type": "markdown",
   "metadata": {},
   "source": [
    "Q4. Explain with an example\n",
    "\n",
    "a. try & else\n",
    "b. finally \n",
    "c. raise"
   ]
  },
  {
   "cell_type": "markdown",
   "metadata": {},
   "source": [
    "A4. \n",
    "a. try & else \n",
    "\n",
    "Try Block: We place the doubtful code inside the try block. If an exception occurs, the remaining code in the try block is skipped.\n",
    "\n",
    "Else Block: An else block can be used to execute code if no exceptions are raised in the try block."
   ]
  },
  {
   "cell_type": "code",
   "execution_count": 7,
   "metadata": {},
   "outputs": [
    {
     "name": "stdout",
     "output_type": "stream",
     "text": [
      "No errors occurred, result is: 5.0\n"
     ]
    }
   ],
   "source": [
    "try:\n",
    "    result = 10 / 2\n",
    "except ZeroDivisionError:\n",
    "    print(\"Error: Cannot divide by zero\")\n",
    "else:\n",
    "    print(\"No errors occurred, result is:\", result)\n"
   ]
  },
  {
   "cell_type": "markdown",
   "metadata": {},
   "source": [
    "b. Finally Block: A finally block can be used to execute code whether or not an exception occurs."
   ]
  },
  {
   "cell_type": "code",
   "execution_count": 8,
   "metadata": {},
   "outputs": [
    {
     "name": "stdout",
     "output_type": "stream",
     "text": [
      "Error: Cannot divide by zero\n",
      "This block runs no matter what\n"
     ]
    }
   ],
   "source": [
    "try:\n",
    "    result = 10 / 0\n",
    "except ZeroDivisionError:\n",
    "    print(\"Error: Cannot divide by zero\")\n",
    "finally:\n",
    "    print(\"This block runs no matter what\")"
   ]
  },
  {
   "cell_type": "markdown",
   "metadata": {},
   "source": [
    "c. The raise statement is used to explicitly raise an exception. This reserved keyword is used to aid the user defined exceptions, help call the custom class that inherits the exception class & have additional user defined exception."
   ]
  },
  {
   "cell_type": "code",
   "execution_count": 6,
   "metadata": {},
   "outputs": [
    {
     "name": "stdout",
     "output_type": "stream",
     "text": [
      "An error occurred: Age cannot be more than 120\n"
     ]
    }
   ],
   "source": [
    "class ValidAgeException(Exception):\n",
    "    def __init__(self, msg):\n",
    "        self.msg = msg\n",
    "\n",
    "def validate_age(age):\n",
    "    if age < 0:\n",
    "        raise ValidAgeException(\"Age cannot be negative\")\n",
    "    elif age > 120:\n",
    "        raise ValidAgeException(\"Age cannot be more than 120\")\n",
    "    else:\n",
    "        print(\"Age is valid\")\n",
    "\n",
    "try:\n",
    "    age = int(input(\"Enter your age: \"))\n",
    "    validate_age(age)\n",
    "except ValidAgeException as e:\n",
    "    print(\"An error occurred:\", e)"
   ]
  },
  {
   "cell_type": "markdown",
   "metadata": {},
   "source": [
    "Q5. What are Custom Exceptions in python ? Why do we need Custom Exceptions? Explain with example."
   ]
  },
  {
   "cell_type": "markdown",
   "metadata": {},
   "source": [
    "A5. Custom exceptions are user-defined exceptions that extend the capabilities of built-in exceptions in Python. They allow us to create specific error conditions relevant to the applications, making the code more readable and maintainable. We can raise and handle errors in a way that is more meaningful to the context of our application."
   ]
  },
  {
   "cell_type": "code",
   "execution_count": 1,
   "metadata": {},
   "outputs": [],
   "source": [
    "class AgeValidationException(Exception):\n",
    "    def __init__(self, message):\n",
    "        self.message = message\n",
    "        super().__init__(self.message)\n"
   ]
  },
  {
   "cell_type": "code",
   "execution_count": 3,
   "metadata": {},
   "outputs": [
    {
     "name": "stdout",
     "output_type": "stream",
     "text": [
      "Age is valid\n"
     ]
    }
   ],
   "source": [
    "def validate_age(age):\n",
    "    if age < 0:\n",
    "        raise AgeValidationException(\"Age cannot be negative\")\n",
    "    elif age > 120:\n",
    "        raise AgeValidationException(\"Age cannot be more than 120\")\n",
    "    else:\n",
    "        print(\"Age is valid\")\n",
    "\n",
    "try:\n",
    "    age = int(input(\"Enter your age: \"))\n",
    "    validate_age(age)\n",
    "except AgeValidationException as e:\n",
    "    print(f\"An error occurred: {e.message}\")\n"
   ]
  },
  {
   "cell_type": "markdown",
   "metadata": {},
   "source": [
    "Q6. Create a custom exception class. Use this class to handle an exception."
   ]
  },
  {
   "cell_type": "code",
   "execution_count": 7,
   "metadata": {},
   "outputs": [
    {
     "name": "stdout",
     "output_type": "stream",
     "text": [
      "An error occurred: Number cannot be greater than 100\n"
     ]
    }
   ],
   "source": [
    "class CustomException(Exception):\n",
    "    def __init__(self, message):\n",
    "        self.message = message\n",
    "        super().__init__(self.message)\n",
    "\n",
    "def validate_number(number):\n",
    "    if number < 0:\n",
    "        raise CustomException(\"Number cannot be negative\")\n",
    "    elif number > 100:\n",
    "        raise CustomException(\"Number cannot be greater than 100\")\n",
    "    else:\n",
    "        return f\"Number {number} is valid\"\n",
    "\n",
    "try:\n",
    "    number = int(input(\"Enter a number: \"))\n",
    "    result = validate_number(number)\n",
    "    print(result)\n",
    "except CustomException as e:\n",
    "    print(f\"An error occurred: {e.message}\")\n"
   ]
  }
 ],
 "metadata": {
  "kernelspec": {
   "display_name": "Python 3",
   "language": "python",
   "name": "python3"
  },
  "language_info": {
   "codemirror_mode": {
    "name": "ipython",
    "version": 3
   },
   "file_extension": ".py",
   "mimetype": "text/x-python",
   "name": "python",
   "nbconvert_exporter": "python",
   "pygments_lexer": "ipython3",
   "version": "3.12.4"
  }
 },
 "nbformat": 4,
 "nbformat_minor": 2
}
